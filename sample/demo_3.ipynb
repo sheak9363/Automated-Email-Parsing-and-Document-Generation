{
 "cells": [
  {
   "cell_type": "code",
   "execution_count": 1,
   "metadata": {},
   "outputs": [],
   "source": [
    "import imaplib\n",
    "import email\n",
    "from email.header import decode_header\n",
    "import os"
   ]
  },
  {
   "cell_type": "code",
   "execution_count": 3,
   "metadata": {},
   "outputs": [],
   "source": [
    "\n",
    "# Email Credentials\n",
    "EMAIL = 'a0049632@gmail.com'  # Replace with your email\n",
    "PASSWORD = 'a0049632abhi12!@'        # Replace with your password\n",
    "IMAP_SERVER = 'imap.gmail.com'    # IMAP server for Gmail"
   ]
  },
  {
   "cell_type": "code",
   "execution_count": 5,
   "metadata": {},
   "outputs": [
    {
     "name": "stdout",
     "output_type": "stream",
     "text": [
      "Error: [WinError 10054] An existing connection was forcibly closed by the remote host\n",
      "No new email with attachments.\n"
     ]
    }
   ],
   "source": [
    "\n",
    "# Function to connect to IMAP and download attachments\n",
    "def download_attachment_from_email():\n",
    "    try:\n",
    "        # Connect to the IMAP server\n",
    "        mail = imaplib.IMAP4_SSL(IMAP_SERVER)\n",
    "        mail.login(EMAIL, PASSWORD)\n",
    "        mail.select(\"inbox\")  # Access the inbox\n",
    "\n",
    "        # Search for all unread emails\n",
    "        status, messages = mail.search(None, 'UNSEEN')\n",
    "        mail_ids = messages[0].split()\n",
    "\n",
    "        for mail_id in mail_ids:\n",
    "            # Fetch the email\n",
    "            _, msg_data = mail.fetch(mail_id, '(RFC822)')\n",
    "            for response_part in msg_data:\n",
    "                if isinstance(response_part, tuple):\n",
    "                    # Parse the email content\n",
    "                    msg = email.message_from_bytes(response_part[1])\n",
    "                    subject, encoding = decode_header(msg[\"Subject\"])[0]\n",
    "                    if isinstance(subject, bytes):\n",
    "                        subject = subject.decode(encoding if encoding else \"utf-8\")\n",
    "                    print(f\"Processing Email: {subject}\")\n",
    "\n",
    "                    # Check for attachments\n",
    "                    for part in msg.walk():\n",
    "                        content_type = part.get_content_type()\n",
    "                        content_disposition = str(part.get(\"Content-Disposition\"))\n",
    "\n",
    "                        if \"attachment\" in content_disposition:\n",
    "                            filename = part.get_filename()\n",
    "                            if filename:\n",
    "                                filename = decode_header(filename)[0][0]\n",
    "                                if isinstance(filename, bytes):\n",
    "                                    filename = filename.decode(\"utf-8\")\n",
    "\n",
    "                                # Save the attachment\n",
    "                                filepath = os.path.join(\"attachments\", filename)\n",
    "                                if not os.path.isdir(\"attachments\"):\n",
    "                                    os.mkdir(\"attachments\")\n",
    "\n",
    "                                with open(filepath, \"wb\") as f:\n",
    "                                    f.write(part.get_payload(decode=True))\n",
    "                                print(f\"Attachment Saved: {filename}\")\n",
    "                                return filepath\n",
    "        print(\"No attachments found.\")\n",
    "        return None\n",
    "    except Exception as e:\n",
    "        print(f\"Error: {str(e)}\")\n",
    "        return None\n",
    "\n",
    "# Main Execution\n",
    "if __name__ == \"__main__\":\n",
    "    attachment_path = download_attachment_from_email()\n",
    "    if attachment_path:\n",
    "        print(f\"Attachment downloaded at: {attachment_path}\")\n",
    "    else:\n",
    "        print(\"No new email with attachments.\")\n"
   ]
  },
  {
   "cell_type": "code",
   "execution_count": null,
   "metadata": {},
   "outputs": [],
   "source": []
  }
 ],
 "metadata": {
  "kernelspec": {
   "display_name": "Python 3",
   "language": "python",
   "name": "python3"
  },
  "language_info": {
   "codemirror_mode": {
    "name": "ipython",
    "version": 3
   },
   "file_extension": ".py",
   "mimetype": "text/x-python",
   "name": "python",
   "nbconvert_exporter": "python",
   "pygments_lexer": "ipython3",
   "version": "3.11.9"
  }
 },
 "nbformat": 4,
 "nbformat_minor": 2
}
