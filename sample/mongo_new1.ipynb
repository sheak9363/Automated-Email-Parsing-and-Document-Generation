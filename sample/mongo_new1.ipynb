{
 "cells": [
  {
   "cell_type": "code",
   "execution_count": 2,
   "metadata": {},
   "outputs": [
    {
     "name": "stdout",
     "output_type": "stream",
     "text": [
      "Data successfully saved to mongo_processed_output.xlsx\n"
     ]
    }
   ],
   "source": [
    "import pdfplumber\n",
    "import pandas as pd\n",
    "from pymongo import MongoClient\n",
    "\n",
    "# MongoDB connection\n",
    "client = MongoClient(\"mongodb://localhost:27017/\")  # Update with your MongoDB URI\n",
    "db = client[\"pdf_data\"]\n",
    "collection = db[\"dimensions\"]\n",
    "\n",
    "def extract_and_store_in_mongo(pdf_path):\n",
    "    with pdfplumber.open(pdf_path) as pdf:\n",
    "        for page in pdf.pages:\n",
    "            tables = page.extract_tables()\n",
    "            for table in tables:\n",
    "                if len(table) > 0:\n",
    "                    headers = table[0]  # First row is assumed to be headers\n",
    "                    cleaned_headers = [str(header).strip() if header else f\"Column_{i}\" for i, header in enumerate(headers)]\n",
    "                    \n",
    "                    for row in table[1:]:\n",
    "                        if len(row) == len(cleaned_headers):\n",
    "                            # Create a clean row dictionary with valid string keys\n",
    "                            row_data = dict(zip(cleaned_headers, row))\n",
    "                            collection.insert_one(row_data)  # Insert row into MongoDB\n",
    "\n",
    "\n",
    "def process_data_from_mongo():\n",
    "    # Query MongoDB for relevant columns (M, L, XL and their sub-headers)\n",
    "    records = collection.find({}, {\"M\": 1, \"L\": 1, \"XL\": 1, \"_id\": 0})  # Fetch specific columns\n",
    "    data = list(records)\n",
    "    return pd.DataFrame(data)\n",
    "\n",
    "def save_to_excel(df, output_file):\n",
    "    df.to_excel(output_file, index=False)\n",
    "    print(f\"Data successfully saved to {output_file}\")\n",
    "\n",
    "def main():\n",
    "    pdf_path = r\"E:\\git\\Automated-Email-Parsing-and-Document-Generation\\input_doc.pdf\"  # Replace with your PDF path\n",
    "    extract_and_store_in_mongo(pdf_path)\n",
    "\n",
    "    # Process data from MongoDB\n",
    "    processed_df = process_data_from_mongo()\n",
    "\n",
    "    # Save to Excel\n",
    "    output_file = \"mongo_processed_output.xlsx\"\n",
    "    save_to_excel(processed_df, output_file)\n",
    "\n",
    "if __name__ == \"__main__\":\n",
    "    main()\n"
   ]
  },
  {
   "cell_type": "code",
   "execution_count": null,
   "metadata": {},
   "outputs": [],
   "source": []
  },
  {
   "cell_type": "code",
   "execution_count": null,
   "metadata": {},
   "outputs": [],
   "source": []
  }
 ],
 "metadata": {
  "kernelspec": {
   "display_name": "Python 3",
   "language": "python",
   "name": "python3"
  },
  "language_info": {
   "codemirror_mode": {
    "name": "ipython",
    "version": 3
   },
   "file_extension": ".py",
   "mimetype": "text/x-python",
   "name": "python",
   "nbconvert_exporter": "python",
   "pygments_lexer": "ipython3",
   "version": "3.11.9"
  }
 },
 "nbformat": 4,
 "nbformat_minor": 2
}
