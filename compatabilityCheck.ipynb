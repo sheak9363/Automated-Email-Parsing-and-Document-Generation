{
 "cells": [
  {
   "cell_type": "code",
   "execution_count": 6,
   "metadata": {},
   "outputs": [
    {
     "name": "stdout",
     "output_type": "stream",
     "text": [
      "IMAP login failed: b'LOGIN failed.'\n",
      "IMAP login failed: b'LOGIN failed.'\n"
     ]
    }
   ],
   "source": [
    "import imaplib\n",
    "\n",
    "# Replace with your credentials\n",
    "EMAIL_USER = \"abifrankling2003@outlook.com\"\n",
    "EMAIL_PASS = \"abhi12!@\"\n",
    "IMAP_SERVER = \"imap-mail.outlook.com\"\n",
    "\n",
    "try:\n",
    "    mail = imaplib.IMAP4_SSL(IMAP_SERVER)\n",
    "    mail.login(EMAIL_USER, EMAIL_PASS)\n",
    "    print(\"IMAP login successful!\")\n",
    "    mail.logout()\n",
    "except Exception as e:\n",
    "    print(\"IMAP login failed:\", e)\n",
    "\n",
    "\n"
   ]
  },
  {
   "cell_type": "code",
   "execution_count": 7,
   "metadata": {},
   "outputs": [
    {
     "name": "stdout",
     "output_type": "stream",
     "text": [
      "IMAP login failed: b'LOGIN failed.'\n"
     ]
    }
   ],
   "source": [
    "import imaplib\n",
    "\n",
    "# Replace with your credentials\n",
    "EMAIL_USER = \"abifrankling2003@outlook.com\"\n",
    "EMAIL_PASS = \"abhi12!@\"\n",
    "IMAP_SERVER = \"imap-mail.outlook.com\"\n",
    "\n",
    "try:\n",
    "    mail = imaplib.IMAP4_SSL(IMAP_SERVER)\n",
    "    mail.login(EMAIL_USER, EMAIL_PASS)\n",
    "    print(\"IMAP login successful!\")\n",
    "except imaplib.IMAP4.error as e:\n",
    "    print(\"IMAP login failed:\", e)"
   ]
  },
  {
   "cell_type": "code",
   "execution_count": null,
   "metadata": {},
   "outputs": [],
   "source": []
  }
 ],
 "metadata": {
  "kernelspec": {
   "display_name": "Python 3",
   "language": "python",
   "name": "python3"
  },
  "language_info": {
   "codemirror_mode": {
    "name": "ipython",
    "version": 3
   },
   "file_extension": ".py",
   "mimetype": "text/x-python",
   "name": "python",
   "nbconvert_exporter": "python",
   "pygments_lexer": "ipython3",
   "version": "3.11.9"
  }
 },
 "nbformat": 4,
 "nbformat_minor": 2
}
