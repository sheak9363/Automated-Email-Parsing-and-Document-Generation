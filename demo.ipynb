{
 "cells": [
  {
   "cell_type": "code",
   "execution_count": 5,
   "metadata": {},
   "outputs": [],
   "source": [
    "import imaplib\n",
    "import email\n",
    "from email.header import decode_header\n",
    "import os\n",
    "import pdfplumber\n",
    "import pandas as pd\n",
    "from pymongo import MongoClient\n",
    "from reportlab.pdfgen import canvas\n",
    "import smtplib\n",
    "from email.mime.multipart import MIMEMultipart\n",
    "from email.mime.base import MIMEBase\n",
    "from email import encoders\n"
   ]
  },
  {
   "cell_type": "code",
   "execution_count": null,
   "metadata": {},
   "outputs": [],
   "source": [
    "# Email credentials\n",
    "EMAIL_USER = \"your_email@example.com\"\n",
    "EMAIL_PASS = \"your_password\"\n",
    "IMAP_SERVER = \"imap.example.com\"\n",
    "SMTP_SERVER = \"smtp.example.com\"\n",
    "SMTP_PORT = 587\n",
    "\n",
    "# MongoDB setup\n",
    "MONGO_URI = \"mongodb://localhost:27017/\"\n",
    "DB_NAME = \"email_data_db\"\n",
    "COLLECTION_NAME = \"budget_data\"\n"
   ]
  },
  {
   "cell_type": "code",
   "execution_count": null,
   "metadata": {},
   "outputs": [],
   "source": [
    "\n",
    "def read_email():\n",
    "    # Connect to the email server\n",
    "    mail = imaplib.IMAP4_SSL(IMAP_SERVER)\n",
    "    mail.login(EMAIL_USER, EMAIL_PASS)\n",
    "    mail.select(\"inbox\")\n",
    "\n",
    "    # Search for emails with attachments\n",
    "    status, messages = mail.search(None, 'ALL')\n",
    "    for num in messages[0].split():\n",
    "        _, msg = mail.fetch(num, \"(RFC822)\")\n",
    "        for response_part in msg:\n",
    "            if isinstance(response_part, tuple):\n",
    "                # Parse the raw email\n",
    "                msg = email.message_from_bytes(response_part[1])\n",
    "                subject, encoding = decode_header(msg[\"Subject\"])[0]\n",
    "                if isinstance(subject, bytes):\n",
    "                    subject = subject.decode(encoding if encoding else \"utf-8\")\n",
    "                print(f\"Email Subject: {subject}\")\n",
    "\n",
    "                # Process attachments\n",
    "                for part in msg.walk():\n",
    "                    if part.get_content_disposition() == \"attachment\":\n",
    "                        filename = part.get_filename()\n",
    "                        if filename and filename.endswith(\".pdf\"):\n",
    "                            filepath = os.path.join(\"downloads\", filename)\n",
    "                            with open(filepath, \"wb\") as f:\n",
    "                                f.write(part.get_payload(decode=True))\n",
    "                            print(f\"Attachment saved: {filename}\")\n",
    "                            return filepath\n",
    "    mail.logout()\n"
   ]
  },
  {
   "cell_type": "code",
   "execution_count": null,
   "metadata": {},
   "outputs": [],
   "source": [
    "\n",
    "def extract_tabular_data_from_pdf(pdf_path):\n",
    "    extracted_data = []\n",
    "    with pdfplumber.open(pdf_path) as pdf:\n",
    "        for page in pdf.pages:\n",
    "            tables = page.extract_tables()\n",
    "            for table in tables:\n",
    "                for row in table:\n",
    "                    extracted_data.append(row)\n",
    "    # Convert to DataFrame\n",
    "    df = pd.DataFrame(extracted_data)\n",
    "    print(\"Data extracted successfully:\")\n",
    "    print(df)\n",
    "    return df\n"
   ]
  },
  {
   "cell_type": "code",
   "execution_count": null,
   "metadata": {},
   "outputs": [],
   "source": [
    "\n",
    "def save_data_to_mongo(df):\n",
    "    client = MongoClient(MONGO_URI)\n",
    "    db = client[DB_NAME]\n",
    "    collection = db[COLLECTION_NAME]\n",
    "    data = df.to_dict(orient=\"records\")\n",
    "    collection.insert_many(data)\n",
    "    print(\"Data saved to MongoDB.\")\n",
    "\n",
    "def save_to_excel(df, excel_path):\n",
    "    df.to_excel(excel_path, index=False)\n",
    "    print(f\"Data saved to Excel: {excel_path}\")\n"
   ]
  },
  {
   "cell_type": "code",
   "execution_count": null,
   "metadata": {},
   "outputs": [],
   "source": [
    "\n",
    "def generate_budget_pdf(df, pdf_path):\n",
    "    c = canvas.Canvas(pdf_path)\n",
    "    c.drawString(100, 800, \"Budget Document\")\n",
    "    y = 780\n",
    "    for _, row in df.iterrows():\n",
    "        c.drawString(100, y, str(row.values))\n",
    "        y -= 20\n",
    "    c.save()\n",
    "    print(f\"Budget PDF generated: {pdf_path}\")\n"
   ]
  },
  {
   "cell_type": "code",
   "execution_count": null,
   "metadata": {},
   "outputs": [],
   "source": [
    "\n",
    "def send_email_with_attachments(to_email, subject, body, files):\n",
    "    msg = MIMEMultipart()\n",
    "    msg['From'] = EMAIL_USER\n",
    "    msg['To'] = to_email\n",
    "    msg['Subject'] = subject\n",
    "\n",
    "    # Attach the body\n",
    "    msg.attach(email.mime.text.MIMEText(body, \"plain\"))\n",
    "\n",
    "    # Attach files\n",
    "    for file in files:\n",
    "        attachment = MIMEBase(\"application\", \"octet-stream\")\n",
    "        with open(file, \"rb\") as f:\n",
    "            attachment.set_payload(f.read())\n",
    "        encoders.encode_base64(attachment)\n",
    "        attachment.add_header(\"Content-Disposition\", f\"attachment; filename={os.path.basename(file)}\")\n",
    "        msg.attach(attachment)\n",
    "\n",
    "    # Send the email\n",
    "    server = smtplib.SMTP(SMTP_SERVER, SMTP_PORT)\n",
    "    server.starttls()\n",
    "    server.login(EMAIL_USER, EMAIL_PASS)\n",
    "    server.send_message(msg)\n",
    "    server.quit()\n",
    "    print(\"Email sent successfully.\")\n"
   ]
  },
  {
   "cell_type": "code",
   "execution_count": null,
   "metadata": {},
   "outputs": [],
   "source": [
    "\n",
    "if __name__ == \"__main__\":\n",
    "    # Workflow\n",
    "    pdf_path = read_email()\n",
    "    if pdf_path:\n",
    "        df = extract_tabular_data_from_pdf(pdf_path)\n",
    "        save_data_to_mongo(df)\n",
    "\n",
    "        excel_path = \"output.xlsx\"\n",
    "        pdf_output_path = \"budget.pdf\"\n",
    "\n",
    "        save_to_excel(df, excel_path)\n",
    "        generate_budget_pdf(df, pdf_output_path)\n",
    "\n",
    "        # Send email back to the user\n",
    "        send_email_with_attachments(\n",
    "            to_email=\"client_email@example.com\",\n",
    "            subject=\"Output Documents\",\n",
    "            body=\"Please find attached the extracted Excel and Budget PDF documents.\",\n",
    "            files=[excel_path, pdf_output_path]\n",
    "        )"
   ]
  }
 ],
 "metadata": {
  "kernelspec": {
   "display_name": "Python 3",
   "language": "python",
   "name": "python3"
  },
  "language_info": {
   "codemirror_mode": {
    "name": "ipython",
    "version": 3
   },
   "file_extension": ".py",
   "mimetype": "text/x-python",
   "name": "python",
   "nbconvert_exporter": "python",
   "pygments_lexer": "ipython3",
   "version": "3.11.9"
  }
 },
 "nbformat": 4,
 "nbformat_minor": 2
}
