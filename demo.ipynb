{
 "cells": [
  {
   "cell_type": "code",
   "execution_count": 15,
   "metadata": {},
   "outputs": [],
   "source": [
    "import imaplib\n",
    "import email\n",
    "from email.header import decode_header\n",
    "import os\n",
    "import pdfplumber\n",
    "import pandas as pd\n",
    "from pymongo import MongoClient\n",
    "from reportlab.pdfgen import canvas\n",
    "import smtplib\n",
    "from email.mime.multipart import MIMEMultipart\n",
    "from email.mime.base import MIMEBase\n",
    "from email import encoders\n"
   ]
  },
  {
   "cell_type": "code",
   "execution_count": 16,
   "metadata": {},
   "outputs": [],
   "source": [
    "# Email credentials\n",
    "EMAIL_USER = \"abifrankling2003@outlook.com\"\n",
    "EMAIL_PASS = \"abhi12!@\"\n",
    "IMAP_SERVER = \"imap-mail.outlook.com\"\n",
    "SMTP_SERVER = \"smtp-mail.outlook.com\"\n",
    "SMTP_PORT = 587"
   ]
  },
  {
   "cell_type": "code",
   "execution_count": 17,
   "metadata": {},
   "outputs": [],
   "source": [
    "# MongoDB setup\n",
    "MONGO_URI = \"mongodb://localhost:27017/\"\n",
    "DB_NAME = \"email_data_db\"\n",
    "COLLECTION_NAME = \"budget_data\""
   ]
  },
  {
   "cell_type": "code",
   "execution_count": 18,
   "metadata": {},
   "outputs": [],
   "source": [
    "\n",
    "def read_email():\n",
    "    # Connect to the email server\n",
    "    mail = imaplib.IMAP4_SSL(IMAP_SERVER)\n",
    "    mail.login(EMAIL_USER, EMAIL_PASS)\n",
    "    mail.select(\"inbox\")\n",
    "\n",
    "    # Search for emails with attachments\n",
    "    status, messages = mail.search(None, 'ALL')\n",
    "    for num in messages[0].split():\n",
    "        _, msg = mail.fetch(num, \"(RFC822)\")\n",
    "        for response_part in msg:\n",
    "            if isinstance(response_part, tuple):\n",
    "                # Parse the raw email\n",
    "                msg = email.message_from_bytes(response_part[1])\n",
    "                subject, encoding = decode_header(msg[\"Subject\"])[0]\n",
    "                if isinstance(subject, bytes):\n",
    "                    subject = subject.decode(encoding if encoding else \"utf-8\")\n",
    "                print(f\"Email Subject: {subject}\")\n",
    "\n",
    "                # Process attachments\n",
    "                for part in msg.walk():\n",
    "                    if part.get_content_disposition() == \"attachment\":\n",
    "                        filename = part.get_filename()\n",
    "                        if filename and filename.endswith(\".pdf\"):\n",
    "                            filepath = os.path.join(\"downloads\", filename)\n",
    "                            with open(filepath, \"wb\") as f:\n",
    "                                f.write(part.get_payload(decode=True))\n",
    "                            print(f\"Attachment saved: {filename}\")\n",
    "                            return filepath\n",
    "    mail.logout()\n"
   ]
  },
  {
   "cell_type": "code",
   "execution_count": 19,
   "metadata": {},
   "outputs": [],
   "source": [
    "\n",
    "def extract_tabular_data_from_pdf(pdf_path):\n",
    "    extracted_data = []\n",
    "    with pdfplumber.open(pdf_path) as pdf:\n",
    "        for page in pdf.pages:\n",
    "            tables = page.extract_tables()\n",
    "            for table in tables:\n",
    "                for row in table:\n",
    "                    extracted_data.append(row)\n",
    "    # Convert to DataFrame\n",
    "    df = pd.DataFrame(extracted_data)\n",
    "    print(\"Data extracted successfully:\")\n",
    "    print(df)\n",
    "    return df\n"
   ]
  },
  {
   "cell_type": "code",
   "execution_count": 20,
   "metadata": {},
   "outputs": [],
   "source": [
    "\n",
    "def save_data_to_mongo(df):\n",
    "    client = MongoClient(MONGO_URI)\n",
    "    db = client[DB_NAME]\n",
    "    collection = db[COLLECTION_NAME]\n",
    "    data = df.to_dict(orient=\"records\")\n",
    "    collection.insert_many(data)\n",
    "    print(\"Data saved to MongoDB.\")\n",
    "\n",
    "def save_to_excel(df, excel_path):\n",
    "    df.to_excel(excel_path, index=False)\n",
    "    print(f\"Data saved to Excel: {excel_path}\")\n"
   ]
  },
  {
   "cell_type": "code",
   "execution_count": 21,
   "metadata": {},
   "outputs": [],
   "source": [
    "\n",
    "def generate_budget_pdf(df, pdf_path):\n",
    "    c = canvas.Canvas(pdf_path)\n",
    "    c.drawString(100, 800, \"Budget Document\")\n",
    "    y = 780\n",
    "    for _, row in df.iterrows():\n",
    "        c.drawString(100, y, str(row.values))\n",
    "        y -= 20\n",
    "    c.save()\n",
    "    print(f\"Budget PDF generated: {pdf_path}\")\n"
   ]
  },
  {
   "cell_type": "code",
   "execution_count": 22,
   "metadata": {},
   "outputs": [],
   "source": [
    "\n",
    "def send_email_with_attachments(to_email, subject, body, files):\n",
    "    msg = MIMEMultipart()\n",
    "    msg['From'] = EMAIL_USER\n",
    "    msg['To'] = to_email\n",
    "    msg['Subject'] = subject\n",
    "\n",
    "    # Attach the body\n",
    "    msg.attach(email.mime.text.MIMEText(body, \"plain\"))\n",
    "\n",
    "    # Attach files\n",
    "    for file in files:\n",
    "        attachment = MIMEBase(\"application\", \"octet-stream\")\n",
    "        with open(file, \"rb\") as f:\n",
    "            attachment.set_payload(f.read())\n",
    "        encoders.encode_base64(attachment)\n",
    "        attachment.add_header(\"Content-Disposition\", f\"attachment; filename={os.path.basename(file)}\")\n",
    "        msg.attach(attachment)\n",
    "\n",
    "    # Send the email\n",
    "    server = smtplib.SMTP(SMTP_SERVER, SMTP_PORT)\n",
    "    server.starttls()\n",
    "    server.login(EMAIL_USER, EMAIL_PASS)\n",
    "    server.send_message(msg)\n",
    "    server.quit()\n",
    "    print(\"Email sent successfully.\")\n"
   ]
  },
  {
   "cell_type": "code",
   "execution_count": 24,
   "metadata": {},
   "outputs": [
    {
     "ename": "gaierror",
     "evalue": "[Errno 11001] getaddrinfo failed",
     "output_type": "error",
     "traceback": [
      "\u001b[1;31m---------------------------------------------------------------------------\u001b[0m",
      "\u001b[1;31mgaierror\u001b[0m                                  Traceback (most recent call last)",
      "Cell \u001b[1;32mIn[24], line 3\u001b[0m\n\u001b[0;32m      1\u001b[0m \u001b[38;5;28;01mif\u001b[39;00m \u001b[38;5;18m__name__\u001b[39m \u001b[38;5;241m==\u001b[39m \u001b[38;5;124m\"\u001b[39m\u001b[38;5;124m__main__\u001b[39m\u001b[38;5;124m\"\u001b[39m:\n\u001b[0;32m      2\u001b[0m     \u001b[38;5;66;03m# Workflow\u001b[39;00m\n\u001b[1;32m----> 3\u001b[0m     pdf_path \u001b[38;5;241m=\u001b[39m \u001b[43mread_email\u001b[49m\u001b[43m(\u001b[49m\u001b[43m)\u001b[49m\n\u001b[0;32m      4\u001b[0m     \u001b[38;5;28;01mif\u001b[39;00m pdf_path:\n\u001b[0;32m      5\u001b[0m         df \u001b[38;5;241m=\u001b[39m extract_tabular_data_from_pdf(pdf_path)\n",
      "Cell \u001b[1;32mIn[18], line 3\u001b[0m, in \u001b[0;36mread_email\u001b[1;34m()\u001b[0m\n\u001b[0;32m      1\u001b[0m \u001b[38;5;28;01mdef\u001b[39;00m \u001b[38;5;21mread_email\u001b[39m():\n\u001b[0;32m      2\u001b[0m     \u001b[38;5;66;03m# Connect to the email server\u001b[39;00m\n\u001b[1;32m----> 3\u001b[0m     mail \u001b[38;5;241m=\u001b[39m \u001b[43mimaplib\u001b[49m\u001b[38;5;241;43m.\u001b[39;49m\u001b[43mIMAP4_SSL\u001b[49m\u001b[43m(\u001b[49m\u001b[43mIMAP_SERVER\u001b[49m\u001b[43m)\u001b[49m\n\u001b[0;32m      4\u001b[0m     mail\u001b[38;5;241m.\u001b[39mlogin(EMAIL_USER, EMAIL_PASS)\n\u001b[0;32m      5\u001b[0m     mail\u001b[38;5;241m.\u001b[39mselect(\u001b[38;5;124m\"\u001b[39m\u001b[38;5;124minbox\u001b[39m\u001b[38;5;124m\"\u001b[39m)\n",
      "File \u001b[1;32mC:\\Program Files\\WindowsApps\\PythonSoftwareFoundation.Python.3.11_3.11.2544.0_x64__qbz5n2kfra8p0\\Lib\\imaplib.py:1323\u001b[0m, in \u001b[0;36mIMAP4_SSL.__init__\u001b[1;34m(self, host, port, keyfile, certfile, ssl_context, timeout)\u001b[0m\n\u001b[0;32m   1320\u001b[0m     ssl_context \u001b[38;5;241m=\u001b[39m ssl\u001b[38;5;241m.\u001b[39m_create_stdlib_context(certfile\u001b[38;5;241m=\u001b[39mcertfile,\n\u001b[0;32m   1321\u001b[0m                                              keyfile\u001b[38;5;241m=\u001b[39mkeyfile)\n\u001b[0;32m   1322\u001b[0m \u001b[38;5;28mself\u001b[39m\u001b[38;5;241m.\u001b[39mssl_context \u001b[38;5;241m=\u001b[39m ssl_context\n\u001b[1;32m-> 1323\u001b[0m \u001b[43mIMAP4\u001b[49m\u001b[38;5;241;43m.\u001b[39;49m\u001b[38;5;21;43m__init__\u001b[39;49m\u001b[43m(\u001b[49m\u001b[38;5;28;43mself\u001b[39;49m\u001b[43m,\u001b[49m\u001b[43m \u001b[49m\u001b[43mhost\u001b[49m\u001b[43m,\u001b[49m\u001b[43m \u001b[49m\u001b[43mport\u001b[49m\u001b[43m,\u001b[49m\u001b[43m \u001b[49m\u001b[43mtimeout\u001b[49m\u001b[43m)\u001b[49m\n",
      "File \u001b[1;32mC:\\Program Files\\WindowsApps\\PythonSoftwareFoundation.Python.3.11_3.11.2544.0_x64__qbz5n2kfra8p0\\Lib\\imaplib.py:202\u001b[0m, in \u001b[0;36mIMAP4.__init__\u001b[1;34m(self, host, port, timeout)\u001b[0m\n\u001b[0;32m    198\u001b[0m \u001b[38;5;28mself\u001b[39m\u001b[38;5;241m.\u001b[39m_mode_ascii()\n\u001b[0;32m    200\u001b[0m \u001b[38;5;66;03m# Open socket to server.\u001b[39;00m\n\u001b[1;32m--> 202\u001b[0m \u001b[38;5;28;43mself\u001b[39;49m\u001b[38;5;241;43m.\u001b[39;49m\u001b[43mopen\u001b[49m\u001b[43m(\u001b[49m\u001b[43mhost\u001b[49m\u001b[43m,\u001b[49m\u001b[43m \u001b[49m\u001b[43mport\u001b[49m\u001b[43m,\u001b[49m\u001b[43m \u001b[49m\u001b[43mtimeout\u001b[49m\u001b[43m)\u001b[49m\n\u001b[0;32m    204\u001b[0m \u001b[38;5;28;01mtry\u001b[39;00m:\n\u001b[0;32m    205\u001b[0m     \u001b[38;5;28mself\u001b[39m\u001b[38;5;241m.\u001b[39m_connect()\n",
      "File \u001b[1;32mC:\\Program Files\\WindowsApps\\PythonSoftwareFoundation.Python.3.11_3.11.2544.0_x64__qbz5n2kfra8p0\\Lib\\imaplib.py:1336\u001b[0m, in \u001b[0;36mIMAP4_SSL.open\u001b[1;34m(self, host, port, timeout)\u001b[0m\n\u001b[0;32m   1330\u001b[0m \u001b[38;5;28;01mdef\u001b[39;00m \u001b[38;5;21mopen\u001b[39m(\u001b[38;5;28mself\u001b[39m, host\u001b[38;5;241m=\u001b[39m\u001b[38;5;124m'\u001b[39m\u001b[38;5;124m'\u001b[39m, port\u001b[38;5;241m=\u001b[39mIMAP4_SSL_PORT, timeout\u001b[38;5;241m=\u001b[39m\u001b[38;5;28;01mNone\u001b[39;00m):\n\u001b[0;32m   1331\u001b[0m \u001b[38;5;250m    \u001b[39m\u001b[38;5;124;03m\"\"\"Setup connection to remote server on \"host:port\".\u001b[39;00m\n\u001b[0;32m   1332\u001b[0m \u001b[38;5;124;03m        (default: localhost:standard IMAP4 SSL port).\u001b[39;00m\n\u001b[0;32m   1333\u001b[0m \u001b[38;5;124;03m    This connection will be used by the routines:\u001b[39;00m\n\u001b[0;32m   1334\u001b[0m \u001b[38;5;124;03m        read, readline, send, shutdown.\u001b[39;00m\n\u001b[0;32m   1335\u001b[0m \u001b[38;5;124;03m    \"\"\"\u001b[39;00m\n\u001b[1;32m-> 1336\u001b[0m     \u001b[43mIMAP4\u001b[49m\u001b[38;5;241;43m.\u001b[39;49m\u001b[43mopen\u001b[49m\u001b[43m(\u001b[49m\u001b[38;5;28;43mself\u001b[39;49m\u001b[43m,\u001b[49m\u001b[43m \u001b[49m\u001b[43mhost\u001b[49m\u001b[43m,\u001b[49m\u001b[43m \u001b[49m\u001b[43mport\u001b[49m\u001b[43m,\u001b[49m\u001b[43m \u001b[49m\u001b[43mtimeout\u001b[49m\u001b[43m)\u001b[49m\n",
      "File \u001b[1;32mC:\\Program Files\\WindowsApps\\PythonSoftwareFoundation.Python.3.11_3.11.2544.0_x64__qbz5n2kfra8p0\\Lib\\imaplib.py:312\u001b[0m, in \u001b[0;36mIMAP4.open\u001b[1;34m(self, host, port, timeout)\u001b[0m\n\u001b[0;32m    310\u001b[0m \u001b[38;5;28mself\u001b[39m\u001b[38;5;241m.\u001b[39mhost \u001b[38;5;241m=\u001b[39m host\n\u001b[0;32m    311\u001b[0m \u001b[38;5;28mself\u001b[39m\u001b[38;5;241m.\u001b[39mport \u001b[38;5;241m=\u001b[39m port\n\u001b[1;32m--> 312\u001b[0m \u001b[38;5;28mself\u001b[39m\u001b[38;5;241m.\u001b[39msock \u001b[38;5;241m=\u001b[39m \u001b[38;5;28;43mself\u001b[39;49m\u001b[38;5;241;43m.\u001b[39;49m\u001b[43m_create_socket\u001b[49m\u001b[43m(\u001b[49m\u001b[43mtimeout\u001b[49m\u001b[43m)\u001b[49m\n\u001b[0;32m    313\u001b[0m \u001b[38;5;28mself\u001b[39m\u001b[38;5;241m.\u001b[39mfile \u001b[38;5;241m=\u001b[39m \u001b[38;5;28mself\u001b[39m\u001b[38;5;241m.\u001b[39msock\u001b[38;5;241m.\u001b[39mmakefile(\u001b[38;5;124m'\u001b[39m\u001b[38;5;124mrb\u001b[39m\u001b[38;5;124m'\u001b[39m)\n",
      "File \u001b[1;32mC:\\Program Files\\WindowsApps\\PythonSoftwareFoundation.Python.3.11_3.11.2544.0_x64__qbz5n2kfra8p0\\Lib\\imaplib.py:1326\u001b[0m, in \u001b[0;36mIMAP4_SSL._create_socket\u001b[1;34m(self, timeout)\u001b[0m\n\u001b[0;32m   1325\u001b[0m \u001b[38;5;28;01mdef\u001b[39;00m \u001b[38;5;21m_create_socket\u001b[39m(\u001b[38;5;28mself\u001b[39m, timeout):\n\u001b[1;32m-> 1326\u001b[0m     sock \u001b[38;5;241m=\u001b[39m \u001b[43mIMAP4\u001b[49m\u001b[38;5;241;43m.\u001b[39;49m\u001b[43m_create_socket\u001b[49m\u001b[43m(\u001b[49m\u001b[38;5;28;43mself\u001b[39;49m\u001b[43m,\u001b[49m\u001b[43m \u001b[49m\u001b[43mtimeout\u001b[49m\u001b[43m)\u001b[49m\n\u001b[0;32m   1327\u001b[0m     \u001b[38;5;28;01mreturn\u001b[39;00m \u001b[38;5;28mself\u001b[39m\u001b[38;5;241m.\u001b[39mssl_context\u001b[38;5;241m.\u001b[39mwrap_socket(sock,\n\u001b[0;32m   1328\u001b[0m                                         server_hostname\u001b[38;5;241m=\u001b[39m\u001b[38;5;28mself\u001b[39m\u001b[38;5;241m.\u001b[39mhost)\n",
      "File \u001b[1;32mC:\\Program Files\\WindowsApps\\PythonSoftwareFoundation.Python.3.11_3.11.2544.0_x64__qbz5n2kfra8p0\\Lib\\imaplib.py:302\u001b[0m, in \u001b[0;36mIMAP4._create_socket\u001b[1;34m(self, timeout)\u001b[0m\n\u001b[0;32m    300\u001b[0m \u001b[38;5;28;01mif\u001b[39;00m timeout \u001b[38;5;129;01mis\u001b[39;00m \u001b[38;5;129;01mnot\u001b[39;00m \u001b[38;5;28;01mNone\u001b[39;00m:\n\u001b[0;32m    301\u001b[0m     \u001b[38;5;28;01mreturn\u001b[39;00m socket\u001b[38;5;241m.\u001b[39mcreate_connection(address, timeout)\n\u001b[1;32m--> 302\u001b[0m \u001b[38;5;28;01mreturn\u001b[39;00m \u001b[43msocket\u001b[49m\u001b[38;5;241;43m.\u001b[39;49m\u001b[43mcreate_connection\u001b[49m\u001b[43m(\u001b[49m\u001b[43maddress\u001b[49m\u001b[43m)\u001b[49m\n",
      "File \u001b[1;32mC:\\Program Files\\WindowsApps\\PythonSoftwareFoundation.Python.3.11_3.11.2544.0_x64__qbz5n2kfra8p0\\Lib\\socket.py:827\u001b[0m, in \u001b[0;36mcreate_connection\u001b[1;34m(address, timeout, source_address, all_errors)\u001b[0m\n\u001b[0;32m    825\u001b[0m host, port \u001b[38;5;241m=\u001b[39m address\n\u001b[0;32m    826\u001b[0m exceptions \u001b[38;5;241m=\u001b[39m []\n\u001b[1;32m--> 827\u001b[0m \u001b[38;5;28;01mfor\u001b[39;00m res \u001b[38;5;129;01min\u001b[39;00m \u001b[43mgetaddrinfo\u001b[49m\u001b[43m(\u001b[49m\u001b[43mhost\u001b[49m\u001b[43m,\u001b[49m\u001b[43m \u001b[49m\u001b[43mport\u001b[49m\u001b[43m,\u001b[49m\u001b[43m \u001b[49m\u001b[38;5;241;43m0\u001b[39;49m\u001b[43m,\u001b[49m\u001b[43m \u001b[49m\u001b[43mSOCK_STREAM\u001b[49m\u001b[43m)\u001b[49m:\n\u001b[0;32m    828\u001b[0m     af, socktype, proto, canonname, sa \u001b[38;5;241m=\u001b[39m res\n\u001b[0;32m    829\u001b[0m     sock \u001b[38;5;241m=\u001b[39m \u001b[38;5;28;01mNone\u001b[39;00m\n",
      "File \u001b[1;32mC:\\Program Files\\WindowsApps\\PythonSoftwareFoundation.Python.3.11_3.11.2544.0_x64__qbz5n2kfra8p0\\Lib\\socket.py:962\u001b[0m, in \u001b[0;36mgetaddrinfo\u001b[1;34m(host, port, family, type, proto, flags)\u001b[0m\n\u001b[0;32m    959\u001b[0m \u001b[38;5;66;03m# We override this function since we want to translate the numeric family\u001b[39;00m\n\u001b[0;32m    960\u001b[0m \u001b[38;5;66;03m# and socket type values to enum constants.\u001b[39;00m\n\u001b[0;32m    961\u001b[0m addrlist \u001b[38;5;241m=\u001b[39m []\n\u001b[1;32m--> 962\u001b[0m \u001b[38;5;28;01mfor\u001b[39;00m res \u001b[38;5;129;01min\u001b[39;00m \u001b[43m_socket\u001b[49m\u001b[38;5;241;43m.\u001b[39;49m\u001b[43mgetaddrinfo\u001b[49m\u001b[43m(\u001b[49m\u001b[43mhost\u001b[49m\u001b[43m,\u001b[49m\u001b[43m \u001b[49m\u001b[43mport\u001b[49m\u001b[43m,\u001b[49m\u001b[43m \u001b[49m\u001b[43mfamily\u001b[49m\u001b[43m,\u001b[49m\u001b[43m \u001b[49m\u001b[38;5;28;43mtype\u001b[39;49m\u001b[43m,\u001b[49m\u001b[43m \u001b[49m\u001b[43mproto\u001b[49m\u001b[43m,\u001b[49m\u001b[43m \u001b[49m\u001b[43mflags\u001b[49m\u001b[43m)\u001b[49m:\n\u001b[0;32m    963\u001b[0m     af, socktype, proto, canonname, sa \u001b[38;5;241m=\u001b[39m res\n\u001b[0;32m    964\u001b[0m     addrlist\u001b[38;5;241m.\u001b[39mappend((_intenum_converter(af, AddressFamily),\n\u001b[0;32m    965\u001b[0m                      _intenum_converter(socktype, SocketKind),\n\u001b[0;32m    966\u001b[0m                      proto, canonname, sa))\n",
      "\u001b[1;31mgaierror\u001b[0m: [Errno 11001] getaddrinfo failed"
     ]
    }
   ],
   "source": [
    "\n",
    "if __name__ == \"__main__\":\n",
    "    # Workflow\n",
    "    pdf_path = read_email()\n",
    "    if pdf_path:\n",
    "        df = extract_tabular_data_from_pdf(pdf_path)\n",
    "        save_data_to_mongo(df)\n",
    "\n",
    "        excel_path = \"output.xlsx\"\n",
    "        pdf_output_path = \"budget.pdf\"\n",
    "\n",
    "        save_to_excel(df, excel_path)\n",
    "        generate_budget_pdf(df, pdf_output_path)\n",
    "\n",
    "        # Send email back to the user\n",
    "        send_email_with_attachments(\n",
    "            to_email=\"client_email@example.com\",\n",
    "            subject=\"Output Documents\",\n",
    "            body=\"Please find attached the extracted Excel and Budget PDF documents.\",\n",
    "            files=[excel_path, pdf_output_path]\n",
    "        )"
   ]
  },
  {
   "cell_type": "code",
   "execution_count": null,
   "metadata": {},
   "outputs": [],
   "source": []
  }
 ],
 "metadata": {
  "kernelspec": {
   "display_name": "Python 3",
   "language": "python",
   "name": "python3"
  },
  "language_info": {
   "codemirror_mode": {
    "name": "ipython",
    "version": 3
   },
   "file_extension": ".py",
   "mimetype": "text/x-python",
   "name": "python",
   "nbconvert_exporter": "python",
   "pygments_lexer": "ipython3",
   "version": "3.11.9"
  }
 },
 "nbformat": 4,
 "nbformat_minor": 2
}
