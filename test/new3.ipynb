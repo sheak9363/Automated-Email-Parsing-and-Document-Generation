{
 "cells": [
  {
   "cell_type": "code",
   "execution_count": 1,
   "metadata": {},
   "outputs": [
    {
     "name": "stdout",
     "output_type": "stream",
     "text": [
      "Extracted Headers: ['Dim', 'Description', 'Comment', 'Tol\\n(-)', 'Tol\\n(+)', 'XS', None, None, 'S', None, None]\n",
      "Extracted Dimensions (Sample): [{'Dim': '1B1', 'Description': 'ChestWidth', 'Comment': '', 'Tol\\n(-)': '-1.00', 'Tol\\n(+)': '1.00', 'XS': 'Increm\\nent', None: 'Deviation', 'S': 'Incremen\\nt'}, {'Dim': '1X1', 'Description': 'BottomHem Width', 'Comment': '', 'Tol\\n(-)': '-1.00', 'Tol\\n(+)': '1.00', 'XS': '46.00', None: '', 'S': '50.00'}, {'Dim': '1F3', 'Description': 'AcrossShoulder', 'Comment': '', 'Tol\\n(-)': '-1.00', 'Tol\\n(+)': '1.00', 'XS': '36.00', None: '', 'S': '38.00'}, {'Dim': '1F6', 'Description': 'ShoulderAngle', 'Comment': '', 'Tol\\n(-)': '-0.50', 'Tol\\n(+)': '0.50', 'XS': '2.50', None: '', 'S': '2.50'}, {'Dim': '1G5', 'Description': 'SleeveLength (Short)', 'Comment': '', 'Tol\\n(-)': '-1.00', 'Tol\\n(+)': '1.00', 'XS': '37.00', None: '', 'S': '39.00'}]\n",
      "Formatted data successfully saved to demo3_final_combined_output.xlsx\n"
     ]
    }
   ],
   "source": [
    "import pdfplumber\n",
    "import pandas as pd\n",
    "\n",
    "def extract_dimensions_with_sizes(pdf_path):\n",
    "    dimensions = []  # List to store all extracted rows\n",
    "    headers = []  # To store headers dynamically\n",
    "    with pdfplumber.open(pdf_path) as pdf:\n",
    "        for page in pdf.pages:\n",
    "            tables = page.extract_tables()\n",
    "            for table in tables:\n",
    "                if len(table) > 0:\n",
    "                    # Extract the headers (first row) and data rows\n",
    "                    current_headers = table[0]\n",
    "                    if not headers:  # Capture headers only once\n",
    "                        headers = current_headers\n",
    "                    for row in table[1:]:\n",
    "                        if len(row) == len(headers):  # Ensure valid row\n",
    "                            row_data = dict(zip(headers, row))\n",
    "                            dimensions.append(row_data)\n",
    "    return dimensions, headers\n",
    "\n",
    "def process_combined_dimensions(dimensions, headers):\n",
    "    processed_data = []\n",
    "\n",
    "    # Process all extracted dimensions\n",
    "    for record in dimensions:\n",
    "        processed_record = {}\n",
    "        for header, value in record.items():\n",
    "            if header and header.strip():\n",
    "                processed_record[header.strip()] = value\n",
    "        processed_data.append(processed_record)\n",
    "\n",
    "    # Convert to DataFrame\n",
    "    df = pd.DataFrame(processed_data)\n",
    "\n",
    "    # Filter only rows with size columns (e.g., \"M,\" \"L,\" \"XL\")\n",
    "    size_columns = [\"M\", \"L\", \"XL\"]\n",
    "    relevant_columns = [col for col in df.columns if col in size_columns or col not in size_columns]\n",
    "\n",
    "    # Reorganize DataFrame to match expected output structure\n",
    "    df = df[relevant_columns]\n",
    "\n",
    "    return df\n",
    "\n",
    "def save_to_excel_formatted(df, output_file):\n",
    "    # Save the DataFrame to an Excel file with formatting\n",
    "    with pd.ExcelWriter(output_file, engine=\"xlsxwriter\") as writer:\n",
    "        df.to_excel(writer, index=False, sheet_name=\"Sheet1\")\n",
    "        worksheet = writer.sheets[\"Sheet1\"]\n",
    "\n",
    "        # Set column widths for better readability\n",
    "        for i, col in enumerate(df.columns):\n",
    "            column_width = max(df[col].astype(str).map(len).max(), len(col))\n",
    "            worksheet.set_column(i, i, column_width)\n",
    "\n",
    "    print(f\"Formatted data successfully saved to {output_file}\")\n",
    "\n",
    "def main():\n",
    "    pdf_path = r\"E:\\git\\Automated-Email-Parsing-and-Document-Generation\\input_doc.pdf\"  # Replace with your PDF path\n",
    "    dimensions, headers = extract_dimensions_with_sizes(pdf_path)\n",
    "\n",
    "    # Combine and process dimensions dynamically\n",
    "    combined_df = process_combined_dimensions(dimensions, headers)\n",
    "\n",
    "    # Debug: Print intermediate results\n",
    "    print(\"Extracted Headers:\", headers)\n",
    "    print(\"Extracted Dimensions (Sample):\", dimensions[:5])\n",
    "\n",
    "    # Save to Excel\n",
    "    output_file = \"demo3_final_combined_output.xlsx\"\n",
    "    save_to_excel_formatted(combined_df, output_file)\n",
    "\n",
    "if __name__ == \"__main__\":\n",
    "    main()\n"
   ]
  },
  {
   "cell_type": "code",
   "execution_count": null,
   "metadata": {},
   "outputs": [],
   "source": []
  },
  {
   "cell_type": "code",
   "execution_count": null,
   "metadata": {},
   "outputs": [],
   "source": []
  }
 ],
 "metadata": {
  "kernelspec": {
   "display_name": "Python 3",
   "language": "python",
   "name": "python3"
  },
  "language_info": {
   "codemirror_mode": {
    "name": "ipython",
    "version": 3
   },
   "file_extension": ".py",
   "mimetype": "text/x-python",
   "name": "python",
   "nbconvert_exporter": "python",
   "pygments_lexer": "ipython3",
   "version": "3.11.9"
  }
 },
 "nbformat": 4,
 "nbformat_minor": 2
}
