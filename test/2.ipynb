{
 "cells": [
  {
   "cell_type": "code",
   "execution_count": 4,
   "metadata": {},
   "outputs": [],
   "source": [
    "import pdfplumber\n",
    "import pymongo\n",
    "import pandas as pd\n",
    "from pymongo import MongoClient\n",
    "import pandas as pd"
   ]
  },
  {
   "cell_type": "code",
   "execution_count": 6,
   "metadata": {},
   "outputs": [
    {
     "name": "stdout",
     "output_type": "stream",
     "text": [
      "Formatted data successfully saved to formatted_output_dynamic3.xlsx\n"
     ]
    }
   ],
   "source": [
    "import pdfplumber\n",
    "import pandas as pd\n",
    "\n",
    "\n",
    "def extract_dimensions(pdf_path):\n",
    "    dimensions = []\n",
    "    with pdfplumber.open(pdf_path) as pdf:\n",
    "        for page in pdf.pages:\n",
    "            tables = page.extract_tables()\n",
    "            for table in tables:\n",
    "                dimensions.extend(table)  # Append all rows in each table\n",
    "    return dimensions\n",
    "\n",
    "\n",
    "def format_dimensions(dimensions):\n",
    "    # Define size categories and sub-headers\n",
    "    size_categories = [\"XS\", \"S\", \"M\", \"L\", \"XL\"]\n",
    "    sub_headers = [\"Increment\", \"Sample\", \"Deviation\"]\n",
    "\n",
    "    # Create headers dynamically\n",
    "    formatted_headers = [\"Dim\", \"Description\", \"Tol (-)\", \"Tol (+)\"]\n",
    "    for size in size_categories:\n",
    "        formatted_headers.extend([f\"{size} {sub}\" for sub in sub_headers])\n",
    "\n",
    "    # Validate the number of columns\n",
    "    expected_cols = len(formatted_headers)\n",
    "\n",
    "    # Format data rows\n",
    "    formatted_data = []\n",
    "    for row in dimensions:\n",
    "        if len(row) < expected_cols:  # Pad short rows with None\n",
    "            row.extend([None] * (expected_cols - len(row)))\n",
    "        elif len(row) > expected_cols:  # Trim excess columns\n",
    "            row = row[:expected_cols]\n",
    "        formatted_data.append(row)\n",
    "\n",
    "    # Convert to DataFrame\n",
    "    df = pd.DataFrame(formatted_data, columns=formatted_headers)\n",
    "    return df\n",
    "\n",
    "\n",
    "def save_to_excel(df, output_file):\n",
    "    df.to_excel(output_file, index=False)\n",
    "    print(f\"Formatted data successfully saved to {output_file}\")\n",
    "\n",
    "\n",
    "def main():\n",
    "    pdf_path = r\"E:\\git\\Automated-Email-Parsing-and-Document-Generation\\input_doc.pdf\"  # Replace with your PDF path\n",
    "    output_file = \"formatted_output_dynamic3.xlsx\"\n",
    "\n",
    "    dimensions = extract_dimensions(pdf_path)\n",
    "    formatted_df = format_dimensions(dimensions)\n",
    "    save_to_excel(formatted_df, output_file)\n",
    "\n",
    "\n",
    "if __name__ == \"__main__\":\n",
    "    main()\n"
   ]
  },
  {
   "cell_type": "code",
   "execution_count": null,
   "metadata": {},
   "outputs": [],
   "source": []
  }
 ],
 "metadata": {
  "kernelspec": {
   "display_name": "Python 3",
   "language": "python",
   "name": "python3"
  },
  "language_info": {
   "codemirror_mode": {
    "name": "ipython",
    "version": 3
   },
   "file_extension": ".py",
   "mimetype": "text/x-python",
   "name": "python",
   "nbconvert_exporter": "python",
   "pygments_lexer": "ipython3",
   "version": "3.11.9"
  }
 },
 "nbformat": 4,
 "nbformat_minor": 2
}
