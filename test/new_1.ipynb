{
 "cells": [
  {
   "cell_type": "code",
   "execution_count": 4,
   "metadata": {},
   "outputs": [],
   "source": [
    "import pdfplumber\n",
    "import pymongo\n",
    "import pandas as pd\n",
    "from pymongo import MongoClient\n",
    "import pandas as pd"
   ]
  },
  {
   "cell_type": "code",
   "execution_count": 7,
   "metadata": {},
   "outputs": [
    {
     "name": "stdout",
     "output_type": "stream",
     "text": [
      "Formatted data successfully saved to final_output.xlsx\n"
     ]
    }
   ],
   "source": [
    "import pdfplumber\n",
    "import pandas as pd\n",
    "\n",
    "def extract_dimensions_with_sizes(pdf_path):\n",
    "    dimensions = []\n",
    "    headers = []  # To store the main and sub-headers dynamically\n",
    "    with pdfplumber.open(pdf_path) as pdf:\n",
    "        for page in pdf.pages:\n",
    "            tables = page.extract_tables()\n",
    "            for table in tables:\n",
    "                if len(table) > 0:\n",
    "                    # Extract the headers (first row) and data rows\n",
    "                    current_headers = table[0]\n",
    "                    if not headers:  # Capture headers only once\n",
    "                        headers = current_headers\n",
    "                    for row in table[1:]:\n",
    "                        if len(row) == len(headers):  # Ensure row matches headers length\n",
    "                            row_data = dict(zip(headers, row))\n",
    "                            dimensions.append(row_data)\n",
    "    return dimensions, headers\n",
    "\n",
    "def process_dimensions_with_sizes(dimensions, headers):\n",
    "    processed_data = []\n",
    "    for record in dimensions:\n",
    "        processed_record = {}\n",
    "        for header, value in record.items():\n",
    "            # Normalize header names\n",
    "            if header and header.strip():\n",
    "                processed_record[header.strip()] = value\n",
    "        processed_data.append(processed_record)\n",
    "\n",
    "    # Convert to DataFrame\n",
    "    df = pd.DataFrame(processed_data)\n",
    "\n",
    "    # Filter only rows with size columns (e.g., \"M,\" \"L,\" \"XL\")\n",
    "    size_columns = [\"M\", \"L\", \"XL\"]\n",
    "    relevant_columns = [col for col in df.columns if col in size_columns or col not in size_columns]\n",
    "\n",
    "    # Reorganize DataFrame to match expected output structure\n",
    "    df = df[relevant_columns]\n",
    "\n",
    "    return df\n",
    "\n",
    "def save_to_excel_formatted(df, output_file):\n",
    "    # Save the DataFrame to an Excel file with formatting\n",
    "    with pd.ExcelWriter(output_file, engine=\"xlsxwriter\") as writer:\n",
    "        df.to_excel(writer, index=False, sheet_name=\"Sheet1\")\n",
    "        worksheet = writer.sheets[\"Sheet1\"]\n",
    "\n",
    "        # Set column widths for better readability\n",
    "        for i, col in enumerate(df.columns):\n",
    "            column_width = max(df[col].astype(str).map(len).max(), len(col))\n",
    "            worksheet.set_column(i, i, column_width)\n",
    "\n",
    "    print(f\"Formatted data successfully saved to {output_file}\")\n",
    "\n",
    "def main():\n",
    "    pdf_path = r\"E:\\git\\Automated-Email-Parsing-and-Document-Generation\\input_doc.pdf\"  # Replace with your PDF path\n",
    "    dimensions, headers = extract_dimensions_with_sizes(pdf_path)\n",
    "\n",
    "    # Process dimensions and headers dynamically\n",
    "    formatted_df = process_dimensions_with_sizes(dimensions, headers)\n",
    "\n",
    "    # Save to Excel\n",
    "    output_file = \"final_output.xlsx\"\n",
    "    save_to_excel_formatted(formatted_df, output_file)\n",
    "\n",
    "if __name__ == \"__main__\":\n",
    "    main()\n"
   ]
  },
  {
   "cell_type": "code",
   "execution_count": null,
   "metadata": {},
   "outputs": [],
   "source": []
  },
  {
   "cell_type": "code",
   "execution_count": null,
   "metadata": {},
   "outputs": [],
   "source": []
  }
 ],
 "metadata": {
  "kernelspec": {
   "display_name": "Python 3",
   "language": "python",
   "name": "python3"
  },
  "language_info": {
   "codemirror_mode": {
    "name": "ipython",
    "version": 3
   },
   "file_extension": ".py",
   "mimetype": "text/x-python",
   "name": "python",
   "nbconvert_exporter": "python",
   "pygments_lexer": "ipython3",
   "version": "3.11.9"
  }
 },
 "nbformat": 4,
 "nbformat_minor": 2
}
