{
 "cells": [
  {
   "cell_type": "code",
   "execution_count": 1,
   "metadata": {},
   "outputs": [
    {
     "name": "stdout",
     "output_type": "stream",
     "text": [
      "Formatted data successfully saved to final_combined_output.xlsx\n"
     ]
    }
   ],
   "source": [
    "import pdfplumber\n",
    "import pandas as pd\n",
    "\n",
    "def extract_dimensions_with_sizes(pdf_path):\n",
    "    dimensions_1_9 = []\n",
    "    dimensions_10_15 = []\n",
    "    headers = []  # To store the main and sub-headers dynamically\n",
    "    with pdfplumber.open(pdf_path) as pdf:\n",
    "        for page in pdf.pages:\n",
    "            tables = page.extract_tables()\n",
    "            for table in tables:\n",
    "                if len(table) > 0:\n",
    "                    # Extract the headers (first row) and data rows\n",
    "                    current_headers = table[0]\n",
    "                    if not headers:  # Capture headers only once\n",
    "                        headers = current_headers\n",
    "                    for row in table[1:]:\n",
    "                        if len(row) == len(headers):  # Ensure valid row\n",
    "                            row_data = dict(zip(headers, row))\n",
    "                            if \"Displaying 1-9 results\" in table:\n",
    "                                dimensions_1_9.append(row_data)\n",
    "                            elif \"Displaying 10-15 results\" in table:\n",
    "                                dimensions_10_15.append(row_data)\n",
    "    return dimensions_1_9, dimensions_10_15, headers\n",
    "\n",
    "def process_combined_dimensions(dimensions_1_9, dimensions_10_15, headers):\n",
    "    processed_data_1_9 = []\n",
    "    processed_data_10_15 = []\n",
    "\n",
    "    # Process first section (1-9 results)\n",
    "    for record in dimensions_1_9:\n",
    "        processed_record = {}\n",
    "        for header, value in record.items():\n",
    "            if header and header.strip():\n",
    "                processed_record[header.strip()] = value\n",
    "        processed_data_1_9.append(processed_record)\n",
    "\n",
    "    # Process second section (10-15 results)\n",
    "    for record in dimensions_10_15:\n",
    "        processed_record = {}\n",
    "        for header, value in record.items():\n",
    "            if header and header.strip():\n",
    "                processed_record[header.strip()] = value\n",
    "        processed_data_10_15.append(processed_record)\n",
    "\n",
    "    # Combine both sections\n",
    "    combined_data = processed_data_1_9 + processed_data_10_15\n",
    "\n",
    "    # Convert to DataFrame\n",
    "    df = pd.DataFrame(combined_data)\n",
    "    return df\n",
    "\n",
    "def save_to_excel_formatted(df, output_file):\n",
    "    # Save the DataFrame to an Excel file with formatting\n",
    "    with pd.ExcelWriter(output_file, engine=\"xlsxwriter\") as writer:\n",
    "        df.to_excel(writer, index=False, sheet_name=\"Sheet1\")\n",
    "        worksheet = writer.sheets[\"Sheet1\"]\n",
    "\n",
    "        # Set column widths for better readability\n",
    "        for i, col in enumerate(df.columns):\n",
    "            column_width = max(df[col].astype(str).map(len).max(), len(col))\n",
    "            worksheet.set_column(i, i, column_width)\n",
    "\n",
    "    print(f\"Formatted data successfully saved to {output_file}\")\n",
    "\n",
    "def main():\n",
    "    pdf_path = r\"E:\\git\\Automated-Email-Parsing-and-Document-Generation\\input_doc.pdf\"  # Replace with your PDF path\n",
    "    dimensions_1_9, dimensions_10_15, headers = extract_dimensions_with_sizes(pdf_path)\n",
    "\n",
    "    # Combine and process dimensions dynamically\n",
    "    combined_df = process_combined_dimensions(dimensions_1_9, dimensions_10_15, headers)\n",
    "\n",
    "    # Save to Excel\n",
    "    output_file = \"final_combined_output.xlsx\"\n",
    "    save_to_excel_formatted(combined_df, output_file)\n",
    "\n",
    "if __name__ == \"__main__\":\n",
    "    main()\n"
   ]
  },
  {
   "cell_type": "code",
   "execution_count": null,
   "metadata": {},
   "outputs": [],
   "source": []
  }
 ],
 "metadata": {
  "kernelspec": {
   "display_name": "Python 3",
   "language": "python",
   "name": "python3"
  },
  "language_info": {
   "codemirror_mode": {
    "name": "ipython",
    "version": 3
   },
   "file_extension": ".py",
   "mimetype": "text/x-python",
   "name": "python",
   "nbconvert_exporter": "python",
   "pygments_lexer": "ipython3",
   "version": "3.11.9"
  }
 },
 "nbformat": 4,
 "nbformat_minor": 2
}
