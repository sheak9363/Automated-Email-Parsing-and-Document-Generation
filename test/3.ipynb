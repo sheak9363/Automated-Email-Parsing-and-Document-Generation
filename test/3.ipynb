{
 "cells": [
  {
   "cell_type": "code",
   "execution_count": 6,
   "metadata": {},
   "outputs": [
    {
     "name": "stdout",
     "output_type": "stream",
     "text": [
      "Formatted data successfully saved to NEWBook1_final_output_corrected.xlsx\n"
     ]
    }
   ],
   "source": [
    "import pdfplumber\n",
    "import pandas as pd\n",
    "\n",
    "\n",
    "def extract_dimensions(pdf_path):\n",
    "    dimensions = []\n",
    "    with pdfplumber.open(pdf_path) as pdf:\n",
    "        for page in pdf.pages:\n",
    "            tables = page.extract_tables()\n",
    "            for table in tables:\n",
    "                dimensions.extend(table)  # Append all rows in each table\n",
    "    return dimensions\n",
    "\n",
    "\n",
    "def format_dimensions(dimensions):\n",
    "    # Define static columns and dynamic size categories\n",
    "    static_columns = [\"Dim\", \"Description\", \"Tol (-)\", \"Tol (+)\"]\n",
    "    size_categories = [\"XS\", \"S\", \"M\", \"L\", \"XL\"]\n",
    "    sub_headers = [\"Increment\", \"Sample\", \"Deviation\"]\n",
    "\n",
    "    # Create multi-level headers\n",
    "    top_header = static_columns + [size for size in size_categories for _ in sub_headers]\n",
    "    sub_header = static_columns + sub_headers * len(size_categories)\n",
    "\n",
    "    # Validate and align rows with the required columns\n",
    "    expected_cols = len(top_header)\n",
    "    formatted_data = []\n",
    "    for row in dimensions:\n",
    "        if len(row) < expected_cols:  # Pad short rows with None\n",
    "            row.extend([None] * (expected_cols - len(row)))\n",
    "        elif len(row) > expected_cols:  # Trim excess columns\n",
    "            row = row[:expected_cols]\n",
    "        formatted_data.append(row)\n",
    "\n",
    "    # Convert to DataFrame\n",
    "    df = pd.DataFrame(formatted_data, columns=top_header)\n",
    "\n",
    "    # Combine headers for Excel output\n",
    "    combined_headers = pd.DataFrame([top_header, sub_header])\n",
    "    return combined_headers, df\n",
    "\n",
    "\n",
    "def save_to_excel(headers, df, output_file):\n",
    "    with pd.ExcelWriter(output_file, engine=\"xlsxwriter\") as writer:\n",
    "        # Write the combined headers manually\n",
    "        headers.to_excel(writer, index=False, header=False, startrow=0)\n",
    "        # Write the data rows below the headers\n",
    "        df.to_excel(writer, index=False, header=False, startrow=headers.shape[0])\n",
    "    print(f\"Formatted data successfully saved to {output_file}\")\n",
    "\n",
    "\n",
    "def main():\n",
    "    pdf_path = r\"E:\\git\\Automated-Email-Parsing-and-Document-Generation\\input_doc.pdf\"  # Replace with your PDF path\n",
    "    output_file = \"NEWBook1_final_output_corrected.xlsx\"  # Desired output file path\n",
    "\n",
    "    dimensions = extract_dimensions(pdf_path)\n",
    "    headers, formatted_df = format_dimensions(dimensions)\n",
    "    save_to_excel(headers, formatted_df, output_file)\n",
    "\n",
    "\n",
    "if __name__ == \"__main__\":\n",
    "    main()\n"
   ]
  },
  {
   "cell_type": "code",
   "execution_count": 3,
   "metadata": {},
   "outputs": [
    {
     "name": "stdout",
     "output_type": "stream",
     "text": [
      "Collecting xlsxwriter\n",
      "  Downloading XlsxWriter-3.2.0-py3-none-any.whl.metadata (2.6 kB)\n",
      "Downloading XlsxWriter-3.2.0-py3-none-any.whl (159 kB)\n",
      "   ---------------------------------------- 0.0/159.9 kB ? eta -:--:--\n",
      "   -- ------------------------------------- 10.2/159.9 kB ? eta -:--:--\n",
      "   ------- ------------------------------- 30.7/159.9 kB 435.7 kB/s eta 0:00:01\n",
      "   ------- ------------------------------- 30.7/159.9 kB 435.7 kB/s eta 0:00:01\n",
      "   --------- ----------------------------- 41.0/159.9 kB 217.9 kB/s eta 0:00:01\n",
      "   ---------------------- ---------------- 92.2/159.9 kB 438.1 kB/s eta 0:00:01\n",
      "   ---------------------- ---------------- 92.2/159.9 kB 438.1 kB/s eta 0:00:01\n",
      "   ---------------------- ---------------- 92.2/159.9 kB 438.1 kB/s eta 0:00:01\n",
      "   ---------------------- ---------------- 92.2/159.9 kB 438.1 kB/s eta 0:00:01\n",
      "   ---------------------- ---------------- 92.2/159.9 kB 438.1 kB/s eta 0:00:01\n",
      "   ----------------------------- -------- 122.9/159.9 kB 266.9 kB/s eta 0:00:01\n",
      "   ----------------------------- -------- 122.9/159.9 kB 266.9 kB/s eta 0:00:01\n",
      "   ---------------------------------- --- 143.4/159.9 kB 266.2 kB/s eta 0:00:01\n",
      "   -------------------------------------- 159.9/159.9 kB 266.3 kB/s eta 0:00:00\n",
      "Installing collected packages: xlsxwriter\n",
      "Successfully installed xlsxwriter-3.2.0\n",
      "Note: you may need to restart the kernel to use updated packages.\n"
     ]
    },
    {
     "name": "stderr",
     "output_type": "stream",
     "text": [
      "\n",
      "[notice] A new release of pip is available: 24.1.2 -> 24.3.1\n",
      "[notice] To update, run: C:\\Users\\Asus\\AppData\\Local\\Microsoft\\WindowsApps\\PythonSoftwareFoundation.Python.3.11_qbz5n2kfra8p0\\python.exe -m pip install --upgrade pip\n"
     ]
    }
   ],
   "source": [
    "pip install xlsxwriter"
   ]
  },
  {
   "cell_type": "code",
   "execution_count": null,
   "metadata": {},
   "outputs": [],
   "source": []
  }
 ],
 "metadata": {
  "kernelspec": {
   "display_name": "Python 3",
   "language": "python",
   "name": "python3"
  },
  "language_info": {
   "codemirror_mode": {
    "name": "ipython",
    "version": 3
   },
   "file_extension": ".py",
   "mimetype": "text/x-python",
   "name": "python",
   "nbconvert_exporter": "python",
   "pygments_lexer": "ipython3",
   "version": "3.11.9"
  }
 },
 "nbformat": 4,
 "nbformat_minor": 2
}
