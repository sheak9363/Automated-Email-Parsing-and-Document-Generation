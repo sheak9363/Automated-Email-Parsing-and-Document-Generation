{
 "cells": [
  {
   "cell_type": "code",
   "execution_count": 5,
   "metadata": {},
   "outputs": [],
   "source": [
    "import pdfplumber\n",
    "import pymongo\n",
    "import pandas as pd\n",
    "from pymongo import MongoClient\n",
    "import pandas as pd"
   ]
  },
  {
   "cell_type": "code",
   "execution_count": 10,
   "metadata": {},
   "outputs": [],
   "source": [
    "import pdfplumber\n",
    "import pandas as pd\n",
    "\n",
    "def extract_dimensions(pdf_path):\n",
    "    dimensions = []\n",
    "    headers = []  # To store the main and sub-headers dynamically\n",
    "    with pdfplumber.open(pdf_path) as pdf:\n",
    "        for page in pdf.pages:\n",
    "            tables = page.extract_tables()\n",
    "            for table in tables:\n",
    "                if len(table) > 0:\n",
    "                    # Extract the headers (first row) and data rows\n",
    "                    current_headers = table[0]\n",
    "                    if not headers:  # Capture headers only once\n",
    "                        headers = current_headers\n",
    "                    for row in table[1:]:\n",
    "                        if len(row) == len(headers):  # Ensure row matches headers length\n",
    "                            row_data = dict(zip(headers, row))\n",
    "                            dimensions.append(row_data)\n",
    "    return dimensions, headers\n"
   ]
  },
  {
   "cell_type": "code",
   "execution_count": 11,
   "metadata": {},
   "outputs": [],
   "source": [
    "def process_dimensions(dimensions, headers):\n",
    "    # Flatten headers to handle sub-headers dynamically\n",
    "    processed_data = []\n",
    "    for record in dimensions:\n",
    "        processed_record = {}\n",
    "        for header, value in record.items():\n",
    "            # Normalize header names\n",
    "            if header and header.strip():\n",
    "                processed_record[header.strip()] = value\n",
    "        processed_data.append(processed_record)\n",
    "    \n",
    "    # Convert to DataFrame\n",
    "    df = pd.DataFrame(processed_data)\n",
    "    return df\n"
   ]
  },
  {
   "cell_type": "code",
   "execution_count": 12,
   "metadata": {},
   "outputs": [],
   "source": [
    "def save_to_excel(df, output_file):\n",
    "    # Save the DataFrame to an Excel file\n",
    "    df.to_excel(output_file, index=False)\n",
    "    print(f\"Formatted data successfully saved to {output_file}\")\n"
   ]
  },
  {
   "cell_type": "code",
   "execution_count": 13,
   "metadata": {},
   "outputs": [
    {
     "name": "stdout",
     "output_type": "stream",
     "text": [
      "Formatted data successfully saved to formatted_output_dynamic.xlsx\n"
     ]
    }
   ],
   "source": [
    "def main():\n",
    "    pdf_path = r\"E:\\git\\Automated-Email-Parsing-and-Document-Generation\\input_doc.pdf\"  # Replace with your PDF path\n",
    "    dimensions, headers = extract_dimensions(pdf_path)\n",
    "    \n",
    "    # Process dimensions and headers dynamically\n",
    "    formatted_df = process_dimensions(dimensions, headers)\n",
    "    \n",
    "    # Save to Excel\n",
    "    output_file = \"formatted_output_dynamic.xlsx\"\n",
    "    save_to_excel(formatted_df, output_file)\n",
    "\n",
    "if __name__ == \"__main__\":\n",
    "    main()\n"
   ]
  },
  {
   "cell_type": "code",
   "execution_count": null,
   "metadata": {},
   "outputs": [],
   "source": []
  }
 ],
 "metadata": {
  "kernelspec": {
   "display_name": "Python 3",
   "language": "python",
   "name": "python3"
  },
  "language_info": {
   "codemirror_mode": {
    "name": "ipython",
    "version": 3
   },
   "file_extension": ".py",
   "mimetype": "text/x-python",
   "name": "python",
   "nbconvert_exporter": "python",
   "pygments_lexer": "ipython3",
   "version": "3.11.9"
  }
 },
 "nbformat": 4,
 "nbformat_minor": 2
}
